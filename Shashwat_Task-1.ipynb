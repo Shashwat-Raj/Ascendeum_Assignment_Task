{
 "cells": [
  {
   "cell_type": "markdown",
   "id": "20b2ea96",
   "metadata": {},
   "source": [
    "#Ascendeum Task1 Shashwat Raj"
   ]
  },
  {
   "cell_type": "code",
   "execution_count": null,
   "id": "70f9acbe",
   "metadata": {},
   "outputs": [
    {
     "name": "stdout",
     "output_type": "stream",
     "text": [
      "[[ 1  2  3  4]\n",
      " [12 13 14  5]\n",
      " [11 16 15  6]\n",
      " [10  9  8  7]]\n"
     ]
    }
   ],
   "source": [
    "import numpy as np\n",
    "def matr(n):\n",
    "    mat=np.zeros((n,n),dtype =int)\n",
    "    counter=1\n",
    "    for i in range(n):\n",
    "        mat[0][i]=counter\n",
    "        counter+=1\n",
    "    for i in range(1,n):\n",
    "        mat[i][n-1]=counter\n",
    "        counter+=1\n",
    "    for i in range(n-2,-1,-1):\n",
    "        mat[n-1][i]=counter\n",
    "        counter+=1\n",
    "    for i in range(n-2,0,-1):\n",
    "        mat[i][0]=counter\n",
    "        counter+=1\n",
    "    for i in range(1,n-1):\n",
    "        mat[1][i]=counter\n",
    "        counter+=1\n",
    "    for i in range(n-2,0,-1):\n",
    "        mat[n-2][i]=counter\n",
    "        counter+=1\n",
    "    print(mat)\n",
    "matr(4)\n"
   ]
  },
  {
   "cell_type": "code",
   "execution_count": null,
   "id": "4bfbbf18",
   "metadata": {},
   "outputs": [],
   "source": []
  },
  {
   "cell_type": "code",
   "execution_count": null,
   "id": "305900bc",
   "metadata": {},
   "outputs": [],
   "source": []
  }
 ],
 "metadata": {
  "kernelspec": {
   "display_name": "Python 3",
   "language": "python",
   "name": "python3"
  },
  "language_info": {
   "codemirror_mode": {
    "name": "ipython",
    "version": 3
   },
   "file_extension": ".py",
   "mimetype": "text/x-python",
   "name": "python",
   "nbconvert_exporter": "python",
   "pygments_lexer": "ipython3",
   "version": "3.13.3"
  }
 },
 "nbformat": 4,
 "nbformat_minor": 5
}
